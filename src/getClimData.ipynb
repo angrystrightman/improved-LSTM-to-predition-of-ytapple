{
 "cells": [
  {
   "attachments": {},
   "cell_type": "markdown",
   "metadata": {},
   "source": [
    "### 获取气候数据\n",
    "\n",
    "因为直接全部下载会导致数据量过大，所以每下载一个就进行处理，只保留烟台区域的数据\n",
    "\n",
    "#### 需求第三方库：\n",
    "\n",
    "`numpy`, `pandas`, `tqdm`\n",
    "\n",
    "#### 代码\n",
    "\n",
    "此文件主要用于调试，运行时使用`getClimData.py`文件，该文件会阶段性与此文件同步"
   ]
  },
  {
   "cell_type": "code",
   "execution_count": 6,
   "metadata": {},
   "outputs": [],
   "source": [
    "import os, gzip\n",
    "import netCDF4\n",
    "import numpy as np\n",
    "import pandas as pd\n",
    "import ftplib as ftp\n",
    "from math import ceil\n",
    "from tqdm import tqdm as tqdmCMD\n",
    "from tqdm.gui import tqdm as tqdmGUI"
   ]
  },
  {
   "cell_type": "code",
   "execution_count": 7,
   "metadata": {},
   "outputs": [],
   "source": [
    "# 定义函数、重载类\n",
    "\n",
    "def isSavedFile(fileName: str, path:str):\n",
    "    \"\"\"\n",
    "    检测文件是否已经存在  \n",
    "    ### 参数  \n",
    "    `fileName`: `str` 文件名  \n",
    "    `path`: `str` 路径名  \n",
    "    ### 返回值  \n",
    "    `bool` 存在则返回True\n",
    "    \"\"\"\n",
    "    if '.nc' in fileName:\n",
    "        fileName = fileName.split('.nc')[0]\n",
    "    fileList = [i.split('.csv') for i in os.listdir(path) if '.csv' in i]\n",
    "    return fileName in fileList\n",
    "\n",
    "def unpack_gz(src, dst):\n",
    "    g_file = gzip.GzipFile(src)\n",
    "    c_file = open(dst, \"wb+\")\n",
    "    c_file.write(g_file.read())\n",
    "    c_file.close()\n",
    "    g_file.close()\n",
    "\n",
    "# ftplib中为了增加对TLS支持所以加了一个sslSocket的判断，理论上在这里运行一遍应该能解决下面未定义的错误\n",
    "try:\n",
    "    import ssl\n",
    "except ImportError:\n",
    "    _SSLSocket = None\n",
    "else:\n",
    "    _SSLSocket = ssl.SSLSocket\n",
    "\n",
    "class myFTP(ftp.FTP):\n",
    "\n",
    "    def retrbinary(self, cmd, callback, blocksize=8192, rest=None):\n",
    "        \"\"\"Retrieve data in binary mode.  A new port is created for you.\n",
    "\n",
    "        ### Args:\n",
    "          `cmd`: A RETR command.\n",
    "          `callback`: A single parameter callable to be called on each\n",
    "                    block of data read.\n",
    "          `blocksize`: The maximum number of bytes to read from the\n",
    "                     socket at one time.  [default: `8192`]\n",
    "          `rest`: Passed to transfercmd().  [default: `None`]\n",
    "\n",
    "        ### Returns:\n",
    "          The response code.\n",
    "        \"\"\"\n",
    "        self.voidcmd('TYPE I')\n",
    "        fileSize = self.size(cmd.replace('retr ', '')) # 1024进制，单位b\n",
    "        progBar  = tqdmCMD(total=fileSize)\n",
    "        with self.transfercmd(cmd, rest) as conn:\n",
    "            while 1:\n",
    "                data = conn.recv(blocksize)\n",
    "                if not data:\n",
    "                    progBar.close()\n",
    "                    break\n",
    "                callback(data)\n",
    "                progBar.update(blocksize)\n",
    "            # shutdown ssl layer\n",
    "            if _SSLSocket is not None and isinstance(conn, _SSLSocket):\n",
    "                conn.unwrap()\n",
    "        return self.voidresp()"
   ]
  },
  {
   "cell_type": "code",
   "execution_count": null,
   "metadata": {},
   "outputs": [],
   "source": [
    "# 连接ftp站点\n",
    "ftpSite = myFTP()\n",
    "ftpSite.connect(host=\"ftp2.tpdc.ac.cn\", port=6201)\n",
    "ftpSite.login(user=\"download_38710462\", passwd=\"59317538\")\n",
    "\n",
    "print(ftpSite.getwelcome())\n",
    "# print(ftpSite.dir())\n",
    "# print(ftpSite.nlst('Data_forcing_03hr_010deg/SRad')[2:])"
   ]
  },
  {
   "cell_type": "code",
   "execution_count": null,
   "metadata": {},
   "outputs": [],
   "source": [
    "# 下载测试\n",
    "\n",
    "# ftpSite.retrbinary('retr Data_forcing_03hr_010deg/SRad/srad_CMFD_V0106_B-01_03hr_010deg_197910.nc.gz',open('t1.nc.gz','wb').write,8192)\n",
    "# ftpSite.retrbinary('retr Data_forcing_03hr_010deg/SRad/srad_CMFD_V0106_B-01_03hr_010deg_197910.nc.gz',open('t2.nc.gz','wb').write,8192)"
   ]
  },
  {
   "cell_type": "code",
   "execution_count": 22,
   "metadata": {},
   "outputs": [],
   "source": [
    "# 参数设置\n",
    "\n",
    "dataPath   = '../data/climData/'         # 数据保存路径\n",
    "cachePath  = '../data/climData/cache/'   # 压缩包和nc文件暂存路径\n",
    "timeRange  = [199201,202312]             # 时间段\n",
    "\n",
    "# 注意经纬度以0.1度为单位，每个结尾有个0.05的偏移\n",
    "latRange   = [36.45, 38.45]              # latitude Range \n",
    "lonRange   = [119.55, 122.05]            # longitude Range\n",
    "\n",
    "infoPrint  = False                       # 是否在命令行内输出信息\n",
    "pathName   = 'Data_forcing_03hr_010deg/' # FTP站点的目标文件夹\n",
    "folderList = ['Temp', 'Prec', 'Pres', 'SRad', 'SHum', 'LRad', 'Wind']"
   ]
  },
  {
   "cell_type": "code",
   "execution_count": null,
   "metadata": {},
   "outputs": [],
   "source": [
    "withIn     = lambda val, range: True if val >= min(range) and val <= max(range) else False\n",
    "fileCount  = 0\n",
    "for folderName in folderList:\n",
    "    path      = pathName + folderName + '/'\n",
    "    fileCount += len(ftpSite.nlst(path)[2:])"
   ]
  },
  {
   "attachments": {},
   "cell_type": "markdown",
   "metadata": {},
   "source": [
    "注意：**不建议**在notebook内直接运行下面一段代码，貌似jupyter对GUI进度显示的支持度不太行  \n",
    "因为还有别的进度条也不好做俩命令行的进度条"
   ]
  },
  {
   "cell_type": "code",
   "execution_count": null,
   "metadata": {},
   "outputs": [],
   "source": [
    "pbar      = tqdmGUI(total=fileCount)\n",
    "def pbarPrint(info: str, isPrint = False):\n",
    "    pbar.set_description(info)\n",
    "    if isPrint:\n",
    "        pbar.write(info)\n",
    "\n",
    "for folderName in folderList:\n",
    "    path     = pathName + folderName + '/'\n",
    "    fileList = ftpSite.nlst(path)[2:]\n",
    "    for file in fileList:\n",
    "        fileName = file.split('.nc.gz')[0]\n",
    "        time = int(fileName[-6:])\n",
    "        if not withIn(time, timeRange):\n",
    "            pbarPrint('{}\\nnot in range, skipped\\n'.format(fileName), infoPrint)\n",
    "            pbar.update(1)\n",
    "            continue\n",
    "        elif isSavedFile(fileName, dataPath):\n",
    "            pbarPrint('{}\\nalready saved\\n'.format(fileName), infoPrint)\n",
    "            pbar.update(1)\n",
    "            continue\n",
    "        pbarPrint('{}\\ndownloading\\n'.format(fileName), infoPrint)\n",
    "        ftpSite.retrbinary('retr {}'.format(path + file), \\\n",
    "            open(cachePath + 'cache.nc.gz', 'wb').write)\n",
    "        pbarPrint('{}\\nprocessing\\n'.format(fileName), infoPrint)\n",
    "        unpack_gz(cachePath + 'cache.nc.gz', cachePath + 'cache.nc')\n",
    "        data = netCDF4.Dataset(cachePath + 'cache.nc')\n",
    "        print(data.variables.keys())\n",
    "        data.close()\n",
    "        # 本来是要把下载的文件删掉的，但是不知道为啥nc文件会一直被占用\n",
    "        # 所以暂时只删掉压缩包\n",
    "        # 总比所有的都下载下来堆在那里强\n",
    "        os.remove(cachePath + 'cache.nc.gz')\n",
    "        # os.remove(cachePath + 'cache.nc')\n",
    "        pbar.update(1)\n",
    "\n"
   ]
  },
  {
   "cell_type": "code",
   "execution_count": null,
   "metadata": {},
   "outputs": [],
   "source": [
    "# 退出FTP站点\n",
    "ftpSite.quit()"
   ]
  }
 ],
 "metadata": {
  "kernelspec": {
   "display_name": "keras_py39",
   "language": "python",
   "name": "python3"
  },
  "language_info": {
   "codemirror_mode": {
    "name": "ipython",
    "version": 3
   },
   "file_extension": ".py",
   "mimetype": "text/x-python",
   "name": "python",
   "nbconvert_exporter": "python",
   "pygments_lexer": "ipython3",
   "version": "3.9.0"
  },
  "orig_nbformat": 4,
  "vscode": {
   "interpreter": {
    "hash": "c83a583911b4ab221c19a8fd428d6cb9faf91951e2231b3f541407af4b70353a"
   }
  }
 },
 "nbformat": 4,
 "nbformat_minor": 2
}
