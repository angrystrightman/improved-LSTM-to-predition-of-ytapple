{
 "cells": [
  {
   "attachments": {},
   "cell_type": "markdown",
   "metadata": {},
   "source": [
    "### 获取气候数据\n",
    "\n",
    "因为直接全部下载会导致数据量过大，所以每下载一个就进行处理，只保留烟台区域的数据\n",
    "\n",
    "#### 需求第三方库：\n",
    "\n",
    "`numpy`, `pandas`, `tqdm`\n",
    "\n",
    "#### 代码"
   ]
  },
  {
   "cell_type": "code",
   "execution_count": 21,
   "metadata": {},
   "outputs": [
    {
     "name": "stdout",
     "output_type": "stream",
     "text": [
      "220---------- Welcome to Pure-FTPd [privsep] [TLS] ----------\n",
      "220-You are user number 59 of 10000 allowed.\n",
      "220-Local time is now 16:22. Server port: 6201.\n",
      "220-IPv6 connections are also welcome on this server.\n",
      "220 You will be disconnected after 15 minutes of inactivity.\n"
     ]
    }
   ],
   "source": [
    "# 初始化\n",
    "import os\n",
    "import numpy as np\n",
    "import pandas as pd\n",
    "import ftplib as ftp\n",
    "from tqdm import tqdm\n",
    "\n",
    "def isSavedFile(fileName: str, path:str):\n",
    "    \"\"\"\n",
    "    检测文件是否已经存在  \n",
    "    ### 参数  \n",
    "    `fileName`: `str` 文件名  \n",
    "    `path`: `str` 路径名  \n",
    "    ### 返回值  \n",
    "    `bool` 存在则返回True\n",
    "    \"\"\"\n",
    "    if '.nc' in fileName:\n",
    "        fileName = fileName.split('.nc')[0]\n",
    "    fileList = [i.split('.csv') for i in os.listdir(path) if '.csv' in i]\n",
    "    return fileName in fileList\n",
    "\n",
    "# 连接ftp站点\n",
    "ftpSite = ftp.FTP()\n",
    "ftpSite.connect(host=\"ftp2.tpdc.ac.cn\", port=6201)\n",
    "ftpSite.login(user=\"download_38710462\", passwd=\"59317538\")\n",
    "\n",
    "print(ftpSite.getwelcome())\n",
    "# print(ftpSite.dir())\n",
    "# print(ftpSite.nlst('Data_forcing_03hr_010deg/SRad')[2:])"
   ]
  },
  {
   "cell_type": "code",
   "execution_count": null,
   "metadata": {},
   "outputs": [],
   "source": [
    "# 下载测试\n",
    "\n",
    "# ftpSite.retrbinary('retr Data_forcing_03hr_010deg/SRad/srad_CMFD_V0106_B-01_03hr_010deg_197910.nc.gz',open('t1.nc.gz','wb').write,8192)\n",
    "# ftpSite.retrbinary('retr Data_forcing_03hr_010deg/SRad/srad_CMFD_V0106_B-01_03hr_010deg_197910.nc.gz',open('t2.nc.gz','wb').write,8192)"
   ]
  },
  {
   "cell_type": "code",
   "execution_count": 22,
   "metadata": {},
   "outputs": [],
   "source": [
    "# 参数设置\n",
    "\n",
    "dataPath  = '../data/climData/'         # 数据保存路径\n",
    "cachePath = '../data/climData/cache/'   # 压缩包和nc文件暂存路径\n",
    "timeRange = [199201,202312]             # 时间段\n",
    "latRange  = [36.45, 38.45]              # latitude Range\n",
    "lonRange  = [119.55, 122.05]            # longitude Range"
   ]
  },
  {
   "attachments": {},
   "cell_type": "markdown",
   "metadata": {},
   "source": [
    "注意：**不建议**在notebook内直接运行下面一段代码，貌似jupyter对进度显示的支持度不太行"
   ]
  },
  {
   "cell_type": "code",
   "execution_count": null,
   "metadata": {},
   "outputs": [],
   "source": [
    "pathName   = 'Data_forcing_03hr_010deg/'\n",
    "folderList = ['Temp', 'Prec', 'Pres', 'SRad', 'SHum', 'LRad', 'Wind']\n",
    "\n",
    "withIn     = lambda val, range: True if val >= min(range) and val <= max(range) else False\n",
    "\n",
    "fileCount  = 0\n",
    "for folderName in folderList:\n",
    "    path      = pathName + folderName + '/'\n",
    "    fileCount += len(ftpSite.nlst(path)[2:])\n",
    "pbar = tqdm(total=fileCount)\n",
    "\n",
    "for folderName in folderList:\n",
    "    path     = pathName + folderName + '/'\n",
    "    fileList = ftpSite.nlst(path)[2:]\n",
    "    for file in fileList:\n",
    "        fileName = file.split('.nc.gz')[0]\n",
    "        time = int(fileName[-6:])\n",
    "        if not withIn(time, timeRange):\n",
    "            pbar.write('{} not in range, skipped.'.format(fileName))\n",
    "            pbar.update(1)\n",
    "            continue\n",
    "        elif isSavedFile(fileName, dataPath):\n",
    "            pbar.write('{} is already saved.'.format(fileName))\n",
    "            pbar.update(1)\n",
    "            continue\n",
    "        # else:\n",
    "        #     ftpSite.retrbinary('retr {}'.format(path + file), \\\n",
    "        #         open(cachePath + 'cache.nc.gz', 'wb').write)\n",
    "        #     pbar.write"
   ]
  },
  {
   "cell_type": "code",
   "execution_count": null,
   "metadata": {},
   "outputs": [],
   "source": [
    "# from time import sleep\n",
    "# pbarT = tqdm(total=100)\n",
    "# for i in range(100):\n",
    "#     pbarT.update(i)\n",
    "#     sleep(0.5)\n",
    "# pbarT.close()"
   ]
  }
 ],
 "metadata": {
  "kernelspec": {
   "display_name": "keras_py39",
   "language": "python",
   "name": "python3"
  },
  "language_info": {
   "codemirror_mode": {
    "name": "ipython",
    "version": 3
   },
   "file_extension": ".py",
   "mimetype": "text/x-python",
   "name": "python",
   "nbconvert_exporter": "python",
   "pygments_lexer": "ipython3",
   "version": "3.9.0"
  },
  "orig_nbformat": 4,
  "vscode": {
   "interpreter": {
    "hash": "c83a583911b4ab221c19a8fd428d6cb9faf91951e2231b3f541407af4b70353a"
   }
  }
 },
 "nbformat": 4,
 "nbformat_minor": 2
}
