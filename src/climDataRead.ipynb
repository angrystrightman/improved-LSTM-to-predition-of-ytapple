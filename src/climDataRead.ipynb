{
 "cells": [
  {
   "attachments": {},
   "cell_type": "markdown",
   "metadata": {},
   "source": [
    "# nc文件读取"
   ]
  },
  {
   "cell_type": "code",
   "execution_count": 14,
   "metadata": {},
   "outputs": [],
   "source": [
    "# 引入必要库函数\n",
    "import os, re\n",
    "import numpy as np\n",
    "import pandas as pd\n",
    "import netCDF4 as nc4"
   ]
  },
  {
   "cell_type": "code",
   "execution_count": 15,
   "metadata": {},
   "outputs": [],
   "source": [
    "def getFileType(fileName: str):\n",
    "    ''' 对文件名进行解析，并返回文件的类型\n",
    "    \n",
    "        调用格式：fileType, accuracy, period = getFileType(str)\n",
    "\n",
    "        ### param  \n",
    "        `filename`: `str` 文件名  \n",
    "        ### return  \n",
    "        `tuple` `str`: 以元组形式返回：\n",
    "        - 数据类型(e.g. lrad)\n",
    "        - 时间精度(e.g. 01yr)\n",
    "        - 开始日期&结束日期（另一个元组）\n",
    "\n",
    "        注意：\n",
    "        1. 若文件名不匹配，则会返回4个`False`\n",
    "        2. 所有返回值均为字符串\n",
    "        3. 开始和结束日期根据时间精度的不同，不一定多长\n",
    "    ''' \n",
    "    # lrad_CMFD_V0106_B-01_01yr_010deg_1979-2018\n",
    "    # print(fileName)\n",
    "    p = re.compile(r\"([a-z]|[A-Z]{4})_CMFD_V\\d{4}_B-01_(.*?)_010deg_(\\d*)-(\\d*)\")\n",
    "    res = p.search(fileName)    \n",
    "    if res:\n",
    "        # print(res.groups())\n",
    "        rg = res.groups()\n",
    "        return (rg[0], rg[1], (rg[2], rg[3]))\n",
    "    else:\n",
    "        return (False, False, False)"
   ]
  },
  {
   "cell_type": "code",
   "execution_count": 16,
   "metadata": {},
   "outputs": [],
   "source": [
    "def formatLocData(loc: float):\n",
    "    ''' 让经纬度数据对齐网格\n",
    "        ### param\n",
    "        `loc`: `float` 经纬度数据\n",
    "        ### return\n",
    "        返回离该经纬度最近的一个在nc文件里的数据\n",
    "    '''\n",
    "    base = round(round(loc, 2)*100/5)\n",
    "    if not base%2:\n",
    "        # 对齐网格\n",
    "        left  = abs((base-1)/20)\n",
    "        right = abs((base+1)/20)\n",
    "        side  = -1 if left < right else 1\n",
    "        base += side\n",
    "    return base/20"
   ]
  },
  {
   "cell_type": "code",
   "execution_count": 17,
   "metadata": {},
   "outputs": [],
   "source": [
    "def getIndexSingle(ncData, colName, indexVal: float):\n",
    "    for i in range(len(ncData.variables[colName])):\n",
    "        if round(ncData.variables[colName][i] - formatLocData(indexVal), 4) == 0:\n",
    "            return int(i)\n",
    "    return -1\n",
    "def getIndexArr(ncData, colName: list, indexVal: np.ndarray):\n",
    "    retArr = np.zeros(indexVal.shape)\n",
    "    for i in range(len(colName)):\n",
    "        for j in range(indexVal.shape[1]):\n",
    "            retArr[i, j] = getIndexSingle(ncData, colName[i], indexVal[i, j])\n",
    "    return retArr\n",
    "def getIndex(ncData, colName, indexVal):\n",
    "    ''' 寻找某一列数据中特定数据的索引  \n",
    "        注意：数据必须只有一列（即shape = (n, 1)）\n",
    "\n",
    "        ### prarm\n",
    "        `ncData`    : `nc4.Dataset` 通过netCDF4读取的nc数据文件\n",
    "        `colName`   : `str`|`list`  数据列的名称\n",
    "        `indexVal`  : `any`|`array` 数据值\n",
    "        ### return\n",
    "        `int`: 该数据的索引（若有多个，则返回第一个）\n",
    "    '''\n",
    "    if type(indexVal) == np.ndarray:\n",
    "        if type(colName) != list:\n",
    "            colName = [colName]\n",
    "        return getIndexArr(ncData, colName, indexVal)\n",
    "    else:\n",
    "        return getIndexSingle(ncData, colName, indexVal)"
   ]
  },
  {
   "cell_type": "code",
   "execution_count": 96,
   "metadata": {},
   "outputs": [],
   "source": [
    "def getSquareArea(data, colName, lonRange, latRange):\n",
    "    ''' 取出一段经纬度范围内的数据\n",
    "\n",
    "        ### prarm\n",
    "        `data`      : `nc4.Dataset` 通过netCDF4读取的nc数据文件\n",
    "        `colName`   : `str`  数据列的名称\n",
    "        `lonRange`  : `list[1,2]` lontitude的范围 - [start, end]\n",
    "        `latRange`  : `list[1,2]` latitude的范围 - [start, end]\n",
    "        ### return\n",
    "        `MaskedArray`: 3维的数组\n",
    "    '''\n",
    "    index = getIndexArr(data, ['lon', 'lat'], np.array([lonRange, latRange]))\n",
    "    arr = data.variables[colName][:, int(index[1, 0]):int(index[1, 1]), int(index[0, 0]):int(index[0, 1])]\n",
    "    return arr"
   ]
  },
  {
   "cell_type": "code",
   "execution_count": 100,
   "metadata": {},
   "outputs": [
    {
     "data": {
      "text/plain": [
       "(248, 3, 3)"
      ]
     },
     "execution_count": 100,
     "metadata": {},
     "output_type": "execute_result"
    },
    {
     "ename": "",
     "evalue": "",
     "output_type": "error",
     "traceback": [
      "\u001b[1;31m在当前单元格或上一个单元格中执行代码时 Kernel 崩溃。请查看单元格中的代码，以确定故障的可能原因。有关详细信息，请单击 <a href='https://aka.ms/vscodeJupyterKernelCrash'>此处</a>。有关更多详细信息，请查看 Jupyter <a href='command:jupyter.viewOutput'>log</a>。"
     ]
    }
   ],
   "source": [
    "testFile = nc4.Dataset(\"../data/climData/cache/cache.nc\", 'r')\n",
    "getSquareArea(testFile, 'temp', [121.320383, 121.565321], [37.246215, 37.527849]).shape"
   ]
  },
  {
   "cell_type": "code",
   "execution_count": 90,
   "metadata": {},
   "outputs": [
    {
     "data": {
      "text/plain": [
       "(3, 0, 700)"
      ]
     },
     "execution_count": 90,
     "metadata": {},
     "output_type": "execute_result"
    }
   ],
   "source": [
    "# 数据测试\n",
    "testLocData = np.array([[121.320383, 121.565321], [37.246215, 37.527849]])\n",
    "\n",
    "locName = ['lon', 'lat']\n",
    "indexList = getIndex(testFile, locName, testLocData)\n",
    "# print(indexList)\n",
    "arr = testFile.variables['temp'][222:225, 512:515]\n",
    "arr.shape"
   ]
  },
  {
   "cell_type": "code",
   "execution_count": 91,
   "metadata": {},
   "outputs": [
    {
     "data": {
      "text/plain": [
       "<class 'netCDF4._netCDF4.Variable'>\n",
       "int32 time(time)\n",
       "    units: hours since 1900-01-01 00:00:0.0\n",
       "    long_name: Time\n",
       "unlimited dimensions: time\n",
       "current shape = (248,)\n",
       "filling on, default _FillValue of -2147483647 used"
      ]
     },
     "execution_count": 91,
     "metadata": {},
     "output_type": "execute_result"
    }
   ],
   "source": [
    "testFile.variables['time']"
   ]
  },
  {
   "cell_type": "code",
   "execution_count": null,
   "metadata": {},
   "outputs": [],
   "source": [
    "filePath = \"../data/climData/01yr/\"\n",
    "fileList = os.listdir(filePath)"
   ]
  },
  {
   "cell_type": "code",
   "execution_count": null,
   "metadata": {},
   "outputs": [
    {
     "name": "stdout",
     "output_type": "stream",
     "text": [
      "fileName: cache.nc\tInvalid file name!\n",
      "fileName: cache.nc.gz\tInvalid file name!\n",
      "fileName: lrad_CMFD_V0106_B-01_01yr_010deg_1979-2018.nc\ttype: d; accuracy: 01yr; period: ('1979', '2018').\n",
      "fileName: prec_CMFD_V0106_B-01_01yr_010deg_1979-2018.nc\ttype: c; accuracy: 01yr; period: ('1979', '2018').\n",
      "fileName: pres_CMFD_V0106_B-01_01yr_010deg_1979-2018.nc\ttype: s; accuracy: 01yr; period: ('1979', '2018').\n",
      "fileName: shum_CMFD_V0106_B-01_01yr_010deg_1979-2018.nc\ttype: m; accuracy: 01yr; period: ('1979', '2018').\n",
      "fileName: srad_CMFD_V0106_B-01_01yr_010deg_1979-2018.nc\ttype: d; accuracy: 01yr; period: ('1979', '2018').\n",
      "fileName: temp_CMFD_V0106_B-01_01yr_010deg_1979-2018.nc\ttype: p; accuracy: 01yr; period: ('1979', '2018').\n",
      "fileName: wind_CMFD_V0106_B-01_01yr_010deg_1979-2018.nc\ttype: d; accuracy: 01yr; period: ('1979', '2018').\n"
     ]
    }
   ],
   "source": [
    "# 文件名解析测试\n",
    "for f in fileList:\n",
    "    fileName = filePath + f\n",
    "    (fileType, accuracy, period) = getFileType(f)\n",
    "    if fileType:\n",
    "        print(\"fileName: {}\\ttype: {}; accuracy: {}; period: {}.\".format(f, fileType, accuracy, period))\n",
    "    else:\n",
    "        print(\"fileName: {}\\tInvalid file name!\".format(f))"
   ]
  },
  {
   "cell_type": "code",
   "execution_count": null,
   "metadata": {},
   "outputs": [],
   "source": [
    "for file in fileList:\n",
    "    (fType, acc, period) = getFileType(file)\n",
    "    data = nc4.Dataset(filePath + file)\n",
    "    "
   ]
  }
 ],
 "metadata": {
  "kernelspec": {
   "display_name": "keras_py39",
   "language": "python",
   "name": "python3"
  },
  "language_info": {
   "codemirror_mode": {
    "name": "ipython",
    "version": 3
   },
   "file_extension": ".py",
   "mimetype": "text/x-python",
   "name": "python",
   "nbconvert_exporter": "python",
   "pygments_lexer": "ipython3",
   "version": "3.9.0"
  },
  "orig_nbformat": 4
 },
 "nbformat": 4,
 "nbformat_minor": 2
}
