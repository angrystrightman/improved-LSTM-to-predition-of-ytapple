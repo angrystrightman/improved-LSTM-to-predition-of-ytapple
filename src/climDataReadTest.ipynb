{
 "cells": [
  {
   "attachments": {},
   "cell_type": "markdown",
   "metadata": {},
   "source": [
    "### NC文件读取测试"
   ]
  },
  {
   "cell_type": "code",
   "execution_count": 3,
   "metadata": {},
   "outputs": [
    {
     "data": {
      "text/plain": [
       "<class 'netCDF4._netCDF4.Dataset'>\n",
       "root group (NETCDF4_CLASSIC data model, file format HDF5):\n",
       "    title: TerraClimate: monthly climate and climatic water balance for global land surfaces\n",
       "    summary: This archive contains a dataset of high-spatial resolution (1/24°, ~4-km) monthly climate and climatic water balance for global terrestrial surfaces from 1958-2015. These data were created by using climatically aided interpolation, combining high-spatial resolution climatological normals from the WorldClim version 1.4 and version 2 datasets, with coarser resolution time varying (i.e. monthly) data from CRU Ts4.0 and JRA-55 to produce a monthly dataset of precipitation, maximum and minimum temperature, wind speed, vapor pressure, and solar radiation. TerraClimate additionally produces monthly surface water balance datasets using a water balance model that incorporates reference evapotranspiration, precipitation, temperature, and interpolated plant extractable soil water capacity.\n",
       "    keywords: WORLDCLIM,global,monthly, temperature,precipitation,wind,radiation,vapor pressure,evapotranspiration,water balance,soil water capacity,snow water equivalent,runoff\n",
       "    id: Blank\n",
       "    naming_authority: edu.uidaho.nkn\n",
       "    keywords_vocabulary: None\n",
       "    cdm_data_type: GRID\n",
       "    history: Created by John Abatzoglou, University of Idaho, Department of Geography\n",
       "    date_created: 2017-07-20\n",
       "    creator_name: John Abatzoglou\n",
       "    creator_url: http://climate.nkn.uidaho.edu/TerraClimate\n",
       "    creator_role: Principal Investigator\n",
       "    creator_email: jabatzoglou@uidaho.edu\n",
       "    institution: University of Idaho\n",
       "    project: Global Dataset of Monthly Climate and Climatic Water Balance (1958-2015)\n",
       "    processing_level: Gridded Climate Projections\n",
       "    acknowledgment: Please cite the references included herein. We also acknowledge the WorldClim datasets (Fick and Hijmans, 2017; Hijmans et al., 2005) and the CRU Ts4.0 (Harris et al., 2014) and JRA-55 (Kobayashi et al., 2015) datasets.\n",
       "    geospatial_lat_min: -89.979164\n",
       "    geospatial_lat_max: 89.979164\n",
       "    geospatial_lon_min: -179.97917\n",
       "    geospatial_lon_max: 179.97917\n",
       "    geospatial_vertical_min: 0.0\n",
       "    geospatial_vertical_max: 0.0\n",
       "    time_coverage_start: 2015-01-01T00:0\n",
       "    time_coverage_end: 2015-12-01T00:0\n",
       "    time_coverage_duration: P1Y\n",
       "    time_coverage_resolution: P1M\n",
       "    standard_nam_vocabulary: CF-1.0\n",
       "    license: No restrictions\n",
       "    contributor_name: Katherine Hegewisch\n",
       "    contributor_role: Postdoctoral Fellow\n",
       "    contributor_email: khegewisch@uidaho.edu\n",
       "    publisher_name: Northwest Knowledge Network\n",
       "    publisher_url: http://www.northwestknowledge.net\n",
       "    publisher_email: info@northwestknowledge.net\n",
       "    date_modified: 2017-07-20\n",
       "    date_issued: 2017-07-20\n",
       "    geospatial_lat_units: decimal degrees north\n",
       "    geospatial_lat_resolution: -0.041666668\n",
       "    geospatial_lon_units: decimal degrees east\n",
       "    geospatial_lon_resolution: 0.041666668\n",
       "    geospatial_vertical_units: None\n",
       "    geospatial_vertical_resolution: 0.0\n",
       "    geospatial_vertical_positive: Up\n",
       "    references: Abatzoglou, J.T., S.Z. Dobrowski, S.A. Parks, and K.C. Hegewisch, 2017, High-resolution global dataset of monthly climate and climatic water balance from 1958-2015, submitted to Scientific Data.\n",
       "    source: WorldClim v2.0 (2.5m), CRU Ts4.0, JRA-55\n",
       "    version: v1.0\n",
       "    Conventions: CF-1.6\n",
       "    method: These layers from TerraClimate were creating using climatically aided interpolation of monthly anomalies from the Japanese 55-year Reanalysis (JRA-55) and WorldClim v2.0 climatologies. We do not provide an additional layer of station density since JRA-55 is used across the entire globe.\n",
       "    dimensions(sizes): lat(4320), lon(8640), time(12), crs(1)\n",
       "    variables(dimensions): float64 lat(lat), float64 lon(lon), float64 time(time), int16 crs(crs), int16 ws(time, lat, lon)\n",
       "    groups: "
      ]
     },
     "execution_count": 3,
     "metadata": {},
     "output_type": "execute_result"
    }
   ],
   "source": [
    "import netCDF4 as nc4\n",
    "import numpy as np\n",
    "\n",
    "data = nc4.Dataset(\"../../ClimData/new_ws_2015.nc\", 'r')\n",
    "\n",
    "data"
   ]
  },
  {
   "cell_type": "code",
   "execution_count": 4,
   "metadata": {},
   "outputs": [
    {
     "name": "stdout",
     "output_type": "stream",
     "text": [
      "lat\n",
      "<class 'netCDF4._netCDF4.Variable'>\n",
      "float64 lat(lat)\n",
      "    units: degrees_north\n",
      "    description: Latitude of the center of the grid cell\n",
      "    long_name: latitude\n",
      "    standard_name: latitude\n",
      "    axis: Y\n",
      "unlimited dimensions: \n",
      "current shape = (4320,)\n",
      "filling on, default _FillValue of 9.969209968386869e+36 used\n",
      "lon\n",
      "<class 'netCDF4._netCDF4.Variable'>\n",
      "float64 lon(lon)\n",
      "    units: degrees_east\n",
      "    description: Longitude of the center of the grid cell\n",
      "    long_name: longitude\n",
      "    standard_name: longitude\n",
      "    axis: X\n",
      "unlimited dimensions: \n",
      "current shape = (8640,)\n",
      "filling on, default _FillValue of 9.969209968386869e+36 used\n",
      "time\n",
      "<class 'netCDF4._netCDF4.Variable'>\n",
      "float64 time(time)\n",
      "    description: days since 1900-01-01\n",
      "    units: days since 1900-01-01 00:00:00\n",
      "    long_name: time\n",
      "    standard_name: time\n",
      "    calendar: gregorian\n",
      "    axis: T\n",
      "unlimited dimensions: \n",
      "current shape = (12,)\n",
      "filling on, default _FillValue of 9.969209968386869e+36 used\n",
      "crs\n",
      "<class 'netCDF4._netCDF4.Variable'>\n",
      "int16 crs(crs)\n",
      "    grid_mapping_name: latitude_longitude\n",
      "    longitude_of_prime_meridian: 0.0\n",
      "    semi_major_axis: 6378137.0\n",
      "    inverse_flattening: 298.257223563\n",
      "    long_name: crs\n",
      "unlimited dimensions: \n",
      "current shape = (1,)\n",
      "filling on, default _FillValue of -32767 used\n",
      "ws\n",
      "<class 'netCDF4._netCDF4.Variable'>\n",
      "int16 ws(time, lat, lon)\n",
      "    _FillValue: -32768\n",
      "    units: m/s\n",
      "    description: Wind Speed at 10-m\n",
      "    long_name: wind_speed\n",
      "    standard_name: wind_speed\n",
      "    missing_value: -32768\n",
      "    dimensions: time lat lon\n",
      "    grid_mapping: crs\n",
      "    coordinate_system: WGS84,EPSG:4326\n",
      "    scale_factor: 0.01\n",
      "    add_offset: 0.0\n",
      "    _Unsigned: true\n",
      "unlimited dimensions: \n",
      "current shape = (12, 4320, 8640)\n",
      "filling on\n"
     ]
    }
   ],
   "source": [
    "for i in data.variables.keys():\n",
    "    print(i)\n",
    "    print(data.variables[i])"
   ]
  },
  {
   "cell_type": "code",
   "execution_count": 11,
   "metadata": {},
   "outputs": [
    {
     "name": "stdout",
     "output_type": "stream",
     "text": [
      "[[[272.      270.79    272.50998]\n",
      "  [271.46    272.72998 272.83   ]\n",
      "  [272.77    273.00998 273.44   ]]\n",
      "\n",
      " [[274.16998 272.71    274.19998]\n",
      "  [273.38    274.41998 274.31   ]\n",
      "  [274.41    274.44998 274.71   ]]\n",
      "\n",
      " [[276.34    274.61    275.88998]\n",
      "  [275.3     276.11    275.8    ]\n",
      "  [276.05    275.88998 275.97998]]\n",
      "\n",
      " ...\n",
      "\n",
      " [[268.35    266.75    268.19   ]\n",
      "  [267.75998 268.68    268.50998]\n",
      "  [268.97998 268.91998 269.13998]]\n",
      "\n",
      " [[267.88    266.3     267.75   ]\n",
      "  [267.41    268.35    268.19   ]\n",
      "  [268.77    268.71    268.94   ]]\n",
      "\n",
      " [[267.87    266.35    267.86   ]\n",
      "  [267.38998 268.38    268.28   ]\n",
      "  [268.75    268.74    269.00998]]]\n"
     ]
    }
   ],
   "source": [
    "print(data.variables['temp'][:, 222:225, 512:515])"
   ]
  },
  {
   "cell_type": "code",
   "execution_count": 5,
   "metadata": {},
   "outputs": [
    {
     "name": "stdout",
     "output_type": "stream",
     "text": [
      "89.97916666666667 -179.97916666666666\n",
      "89.9375 -179.9375\n",
      "89.89583333333334 -179.89583333333331\n",
      "89.85416666666667 -179.85416666666666\n",
      "89.8125 -179.8125\n",
      "89.77083333333334 -179.77083333333331\n",
      "89.72916666666667 -179.72916666666666\n",
      "89.6875 -179.6875\n",
      "89.64583333333334 -179.64583333333331\n",
      "89.60416666666667 -179.60416666666666\n"
     ]
    }
   ],
   "source": [
    "# 单位长度测试\n",
    "for i in range(10):\n",
    "    print(data.variables['lat'][i], data.variables['lon'][i])"
   ]
  },
  {
   "cell_type": "code",
   "execution_count": 7,
   "metadata": {},
   "outputs": [
    {
     "data": {
      "text/plain": [
       "0.0"
      ]
     },
     "execution_count": 7,
     "metadata": {},
     "output_type": "execute_result"
    }
   ],
   "source": [
    "round(70.450005 - 70.45, 4)"
   ]
  }
 ],
 "metadata": {
  "kernelspec": {
   "display_name": "keras_py39",
   "language": "python",
   "name": "python3"
  },
  "language_info": {
   "codemirror_mode": {
    "name": "ipython",
    "version": 3
   },
   "file_extension": ".py",
   "mimetype": "text/x-python",
   "name": "python",
   "nbconvert_exporter": "python",
   "pygments_lexer": "ipython3",
   "version": "3.9.0"
  },
  "orig_nbformat": 4,
  "vscode": {
   "interpreter": {
    "hash": "c83a583911b4ab221c19a8fd428d6cb9faf91951e2231b3f541407af4b70353a"
   }
  }
 },
 "nbformat": 4,
 "nbformat_minor": 2
}
