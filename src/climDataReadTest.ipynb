{
 "cells": [
  {
   "attachments": {},
   "cell_type": "markdown",
   "metadata": {},
   "source": [
    "### NC文件读取测试"
   ]
  },
  {
   "cell_type": "code",
   "execution_count": 12,
   "metadata": {},
   "outputs": [
    {
     "name": "stdout",
     "output_type": "stream",
     "text": [
      "lon (700,)\n",
      "lat (400,)\n",
      "time (248,)\n",
      "temp (248, 400, 700)\n"
     ]
    },
    {
     "data": {
      "text/plain": [
       "masked_array(data=[15.05    , 15.150001, 15.25    , 15.35    , 15.45    ,\n",
       "                   15.55    , 15.650001, 15.75    , 15.85    , 15.95    ],\n",
       "             mask=False,\n",
       "       fill_value=1e+20,\n",
       "            dtype=float32)"
      ]
     },
     "execution_count": 12,
     "metadata": {},
     "output_type": "execute_result"
    }
   ],
   "source": [
    "import netCDF4 as nc4\n",
    "import numpy as np\n",
    "\n",
    "data = nc4.Dataset(\"../data/climData/cache/cache.nc\", 'r')\n",
    "for i in data.variables.keys():\n",
    "    print(i, data.variables[i].shape)\n",
    "data.variables['lat'][0:10]"
   ]
  },
  {
   "cell_type": "code",
   "execution_count": 4,
   "metadata": {},
   "outputs": [
    {
     "name": "stdout",
     "output_type": "stream",
     "text": [
      "lon\n",
      "<class 'netCDF4._netCDF4.Variable'>\n",
      "float32 lon(lon)\n",
      "    units: degrees_east\n",
      "    long_name: Longitude\n",
      "unlimited dimensions: \n",
      "current shape = (700,)\n",
      "filling on, default _FillValue of 9.969209968386869e+36 used\n",
      "lat\n",
      "<class 'netCDF4._netCDF4.Variable'>\n",
      "float32 lat(lat)\n",
      "    units: degrees_north\n",
      "    long_name: Latitude\n",
      "unlimited dimensions: \n",
      "current shape = (400,)\n",
      "filling on, default _FillValue of 9.969209968386869e+36 used\n",
      "time\n",
      "<class 'netCDF4._netCDF4.Variable'>\n",
      "int32 time(time)\n",
      "    units: hours since 1900-01-01 00:00:0.0\n",
      "    long_name: Time\n",
      "unlimited dimensions: time\n",
      "current shape = (248,)\n",
      "filling on, default _FillValue of -2147483647 used\n",
      "temp\n",
      "<class 'netCDF4._netCDF4.Variable'>\n",
      "int16 temp(time, lat, lon)\n",
      "    scale_factor: 0.01\n",
      "    add_offset: 273.15\n",
      "    _FillValue: -32767\n",
      "    missing_value: -32767\n",
      "    units: K\n",
      "    long_name: Near surface air temperature\n",
      "unlimited dimensions: time\n",
      "current shape = (248, 400, 700)\n",
      "filling on\n"
     ]
    }
   ],
   "source": [
    "for i in data.variables.keys():\n",
    "    print(i)\n",
    "    print(data.variables[i])"
   ]
  },
  {
   "cell_type": "code",
   "execution_count": 11,
   "metadata": {},
   "outputs": [
    {
     "name": "stdout",
     "output_type": "stream",
     "text": [
      "[[[272.      270.79    272.50998]\n",
      "  [271.46    272.72998 272.83   ]\n",
      "  [272.77    273.00998 273.44   ]]\n",
      "\n",
      " [[274.16998 272.71    274.19998]\n",
      "  [273.38    274.41998 274.31   ]\n",
      "  [274.41    274.44998 274.71   ]]\n",
      "\n",
      " [[276.34    274.61    275.88998]\n",
      "  [275.3     276.11    275.8    ]\n",
      "  [276.05    275.88998 275.97998]]\n",
      "\n",
      " ...\n",
      "\n",
      " [[268.35    266.75    268.19   ]\n",
      "  [267.75998 268.68    268.50998]\n",
      "  [268.97998 268.91998 269.13998]]\n",
      "\n",
      " [[267.88    266.3     267.75   ]\n",
      "  [267.41    268.35    268.19   ]\n",
      "  [268.77    268.71    268.94   ]]\n",
      "\n",
      " [[267.87    266.35    267.86   ]\n",
      "  [267.38998 268.38    268.28   ]\n",
      "  [268.75    268.74    269.00998]]]\n"
     ]
    }
   ],
   "source": [
    "print(data.variables['temp'][:, 222:225, 512:515])"
   ]
  },
  {
   "cell_type": "code",
   "execution_count": 3,
   "metadata": {},
   "outputs": [
    {
     "name": "stdout",
     "output_type": "stream",
     "text": [
      "15.05 70.05\n",
      "15.150001 70.15\n",
      "15.25 70.25\n",
      "15.35 70.350006\n",
      "15.45 70.450005\n",
      "15.55 70.55\n",
      "15.650001 70.65\n",
      "15.75 70.75\n",
      "15.85 70.850006\n",
      "15.95 70.950005\n"
     ]
    }
   ],
   "source": [
    "# 单位长度测试\n",
    "for i in range(10):\n",
    "    print(data.variables['lat'][i], data.variables['lon'][i])"
   ]
  },
  {
   "cell_type": "code",
   "execution_count": 7,
   "metadata": {},
   "outputs": [
    {
     "data": {
      "text/plain": [
       "0.0"
      ]
     },
     "execution_count": 7,
     "metadata": {},
     "output_type": "execute_result"
    }
   ],
   "source": [
    "round(70.450005 - 70.45, 4)"
   ]
  }
 ],
 "metadata": {
  "kernelspec": {
   "display_name": "keras_py39",
   "language": "python",
   "name": "python3"
  },
  "language_info": {
   "codemirror_mode": {
    "name": "ipython",
    "version": 3
   },
   "file_extension": ".py",
   "mimetype": "text/x-python",
   "name": "python",
   "nbconvert_exporter": "python",
   "pygments_lexer": "ipython3",
   "version": "3.9.0"
  },
  "orig_nbformat": 4,
  "vscode": {
   "interpreter": {
    "hash": "c83a583911b4ab221c19a8fd428d6cb9faf91951e2231b3f541407af4b70353a"
   }
  }
 },
 "nbformat": 4,
 "nbformat_minor": 2
}
