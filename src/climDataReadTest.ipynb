{
 "cells": [
  {
   "attachments": {},
   "cell_type": "markdown",
   "metadata": {},
   "source": [
    "### NC文件读取测试"
   ]
  },
  {
   "cell_type": "code",
   "execution_count": 1,
   "metadata": {},
   "outputs": [
    {
     "data": {
      "text/plain": [
       "dict_keys(['lat', 'lon', 'lrad', 'time'])"
      ]
     },
     "execution_count": 1,
     "metadata": {},
     "output_type": "execute_result"
    }
   ],
   "source": [
    "import netCDF4 as nc4\n",
    "import numpy as np\n",
    "\n",
    "data = nc4.Dataset('test.nc', 'r')\n",
    "data\n",
    "data.variables.keys()"
   ]
  },
  {
   "cell_type": "code",
   "execution_count": 10,
   "metadata": {},
   "outputs": [
    {
     "name": "stdout",
     "output_type": "stream",
     "text": [
      "lat\n",
      "<class 'netCDF4._netCDF4.Variable'>\n",
      "float32 lat(lat)\n",
      "    standard_name: latitude\n",
      "    long_name: Latitude\n",
      "    units: degrees_north\n",
      "    axis: Y\n",
      "unlimited dimensions: \n",
      "current shape = (400,)\n",
      "filling on, default _FillValue of 9.969209968386869e+36 used\n",
      "lon\n",
      "<class 'netCDF4._netCDF4.Variable'>\n",
      "float32 lon(lon)\n",
      "    standard_name: longitude\n",
      "    long_name: Longitude\n",
      "    units: degrees_east\n",
      "    axis: X\n",
      "unlimited dimensions: \n",
      "current shape = (700,)\n",
      "filling on, default _FillValue of 9.969209968386869e+36 used\n",
      "lrad\n",
      "<class 'netCDF4._netCDF4.Variable'>\n",
      "int16 lrad(time, lat, lon)\n",
      "    long_name: Surface downward longwave radiation\n",
      "    units: W m-2\n",
      "    add_offset: 685.0\n",
      "    scale_factor: 0.25\n",
      "    _FillValue: -32767\n",
      "    missing_value: -32767\n",
      "unlimited dimensions: time\n",
      "current shape = (366, 400, 700)\n",
      "filling on\n",
      "time\n",
      "<class 'netCDF4._netCDF4.Variable'>\n",
      "float64 time(time)\n",
      "    standard_name: time\n",
      "    long_name: Time\n",
      "    units: hours since 1900-1-1 00:00:00\n",
      "    calendar: standard\n",
      "    axis: T\n",
      "unlimited dimensions: time\n",
      "current shape = (366,)\n",
      "filling on, default _FillValue of 9.969209968386869e+36 used\n"
     ]
    }
   ],
   "source": [
    "for i in data.variables.keys():\n",
    "    print(i)\n",
    "    print(data.variables[i])"
   ]
  },
  {
   "cell_type": "code",
   "execution_count": 18,
   "metadata": {},
   "outputs": [
    {
     "name": "stdout",
     "output_type": "stream",
     "text": [
      "366\n",
      "400\n",
      "700\n"
     ]
    }
   ],
   "source": [
    "print(len(data.variables['lrad']))\n",
    "print(len(data.variables['lrad'][1]))\n",
    "print(len(data.variables['lrad'][1,1]))"
   ]
  },
  {
   "cell_type": "code",
   "execution_count": 22,
   "metadata": {},
   "outputs": [
    {
     "name": "stdout",
     "output_type": "stream",
     "text": [
      "35.05\n",
      "90.05\n",
      "35.15\n",
      "90.15\n"
     ]
    }
   ],
   "source": [
    "print(data.variables['lat'][200])\n",
    "print(data.variables['lon'][200])\n",
    "print(data.variables['lat'][201])\n",
    "print(data.variables['lon'][201])"
   ]
  }
 ],
 "metadata": {
  "kernelspec": {
   "display_name": "keras_py39",
   "language": "python",
   "name": "python3"
  },
  "language_info": {
   "codemirror_mode": {
    "name": "ipython",
    "version": 3
   },
   "file_extension": ".py",
   "mimetype": "text/x-python",
   "name": "python",
   "nbconvert_exporter": "python",
   "pygments_lexer": "ipython3",
   "version": "3.9.0"
  },
  "orig_nbformat": 4,
  "vscode": {
   "interpreter": {
    "hash": "c83a583911b4ab221c19a8fd428d6cb9faf91951e2231b3f541407af4b70353a"
   }
  }
 },
 "nbformat": 4,
 "nbformat_minor": 2
}
