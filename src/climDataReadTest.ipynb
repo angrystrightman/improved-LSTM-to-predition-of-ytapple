{
 "cells": [
  {
   "attachments": {},
   "cell_type": "markdown",
   "metadata": {},
   "source": [
    "### NC文件读取测试"
   ]
  },
  {
   "cell_type": "code",
   "execution_count": 1,
   "metadata": {},
   "outputs": [
    {
     "data": {
      "text/plain": [
       "dict_keys(['lat', 'lon', 'lrad', 'time'])"
      ]
     },
     "execution_count": 1,
     "metadata": {},
     "output_type": "execute_result"
    }
   ],
   "source": [
    "import netCDF4 as nc4\n",
    "import numpy as np\n",
    "\n",
    "data = nc4.Dataset('test.nc', 'r')"
   ]
  },
  {
   "cell_type": "code",
   "execution_count": 29,
   "metadata": {},
   "outputs": [
    {
     "name": "stdout",
     "output_type": "stream",
     "text": [
      "214\n"
     ]
    },
    {
     "data": {
      "text/plain": [
       "(366, 400, 700)"
      ]
     },
     "execution_count": 29,
     "metadata": {},
     "output_type": "execute_result"
    }
   ],
   "source": [
    "#data[]\n",
    "# print(data.variables['lat'][:])\n",
    "dl = list(data.variables['lat'][:])\n",
    "count = 0\n",
    "for i in range(len(dl)):\n",
    "    if round(float(dl[i]), 2) == round(36.45, 2):\n",
    "        print(i)\n",
    "        break\n",
    "\n",
    "lrad = data.variables[\"lrad\"][:]\n",
    "lrad.shape"
   ]
  }
 ],
 "metadata": {
  "kernelspec": {
   "display_name": "keras_py39",
   "language": "python",
   "name": "python3"
  },
  "language_info": {
   "codemirror_mode": {
    "name": "ipython",
    "version": 3
   },
   "file_extension": ".py",
   "mimetype": "text/x-python",
   "name": "python",
   "nbconvert_exporter": "python",
   "pygments_lexer": "ipython3",
   "version": "3.9.0"
  },
  "orig_nbformat": 4,
  "vscode": {
   "interpreter": {
    "hash": "c83a583911b4ab221c19a8fd428d6cb9faf91951e2231b3f541407af4b70353a"
   }
  }
 },
 "nbformat": 4,
 "nbformat_minor": 2
}
